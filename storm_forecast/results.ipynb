{
 "cells": [
  {
   "cell_type": "code",
   "execution_count": 115,
   "metadata": {},
   "outputs": [
    {
     "name": "stdout",
     "output_type": "stream",
     "text": [
      "{'X_0D': [((0.01, 0.0001), 27.243328399806316), ((0.01, 0.001), 27.096007526271688), ((0.01, 0.01), 26.083204006998987), ((0.01, 0.1), 25.92087292373086), ((0.01, 1.0), 26.999871197547442), ((0.01, 10.0), 27.2440324709632), ((0.01, 100.0), 27.257221316978672), ((0.1, 0.0001), 27.09001658967749), ((0.1, 0.001), 25.660937270730468), ((0.1, 0.01), 20.85404394279725), ((0.1, 0.1), 20.567592056667273), ((0.1, 1.0), 25.24842331218722), ((0.1, 10.0), 27.09718725534535), ((0.1, 100.0), 27.230405638910973), ((1.0, 0.0001), 25.61151118799768), ((1.0, 0.001), 19.754588171704583), ((1.0, 0.01), 16.41439196964381), ((1.0, 0.1), 15.597830580066976), ((1.0, 1.0), 20.058082672622426), ((1.0, 10.0), 25.887955680956146), ((1.0, 100.0), 26.97395195403758), ((10.0, 0.0001), 19.660596480820058), ((10.0, 0.001), 16.82168007991266), ((10.0, 0.01), 15.734650700355697), ((10.0, 0.1), 14.503111312243675), ((10.0, 1.0), 14.0324350125818), ((10.0, 10.0), 21.015335902701096), ((10.0, 100.0), 25.698433935351037), ((100.0, 0.0001), 16.916228972905277), ((100.0, 0.001), 16.520172090431707), ((100.0, 0.01), 15.230825038156114), ((100.0, 0.1), 13.82237290917782), ((100.0, 1.0), 11.74512241762449), ((100.0, 10.0), 16.628895628118435), ((100.0, 100.0), 23.860108930948325)], 'X_0D_zuv': [((0.01, 0.0001), 27.1566134605375), ((0.01, 0.001), 26.67638626461615), ((0.01, 0.01), 26.96751318528937), ((0.01, 0.1), 27.256915341524532), ((0.01, 1.0), 27.25898646177), ((0.01, 10.0), 27.25898712229493), ((0.01, 100.0), 27.258987122294926), ((0.1, 0.0001), 26.363737039310937), ((0.1, 0.001), 25.074849576008994), ((0.1, 0.01), 25.43283444596078), ((0.1, 0.1), 27.227325746753944), ((0.1, 1.0), 27.24802212437065), ((0.1, 10.0), 27.248028724085078), ((0.1, 100.0), 27.248028724085078), ((1.0, 0.0001), 24.53550587056271), ((1.0, 0.001), 19.342050782861033), ((1.0, 0.01), 20.050705171072703), ((1.0, 0.1), 26.94270407154751), ((1.0, 1.0), 27.146650313408465), ((1.0, 10.0), 27.146715306100866), ((1.0, 100.0), 27.14671530610087), ((10.0, 0.0001), 18.519470631831133), ((10.0, 0.001), 14.988792933695175), ((10.0, 0.01), 13.52838526359176), ((10.0, 0.1), 25.257062718732993), ((10.0, 1.0), 27.001205680065492), ((10.0, 10.0), 27.001755954560487), ((10.0, 100.0), 27.001755954560487), ((100.0, 0.0001), 15.600693148492503), ((100.0, 0.001), 13.834743028363318), ((100.0, 0.01), 9.297232111255596), ((100.0, 0.1), 22.170919265526493), ((100.0, 1.0), 26.846357122057757), ((100.0, 10.0), 26.848312497848216), ((100.0, 100.0), 26.848312497848216)], 'X_0D_sshv': [((0.01, 0.0001), 27.07020332467333), ((0.01, 0.001), 26.49952695658373), ((0.01, 0.01), 27.164184034160783), ((0.01, 0.1), 27.258968327468615), ((0.01, 1.0), 27.25898712229487), ((0.01, 10.0), 27.258987122294926), ((0.01, 100.0), 27.258987122294926), ((0.1, 0.0001), 26.076067802572247), ((0.1, 0.001), 24.535648903259858), ((0.1, 0.01), 26.402351286859638), ((0.1, 0.1), 27.247840306707815), ((0.1, 1.0), 27.248028724084485), ((0.1, 10.0), 27.248028724085078), ((0.1, 100.0), 27.248028724085078), ((1.0, 0.0001), 23.737974289016506), ((1.0, 0.001), 19.118671917863562), ((1.0, 0.01), 23.22696483928863), ((1.0, 0.1), 27.1448251242822), ((1.0, 1.0), 27.14671530609461), ((1.0, 10.0), 27.14671530610087), ((1.0, 100.0), 27.14671530610087), ((10.0, 0.0001), 18.234724161669615), ((10.0, 0.001), 14.479537667902159), ((10.0, 0.01), 17.60373411935975), ((10.0, 0.1), 26.983877477396916), ((10.0, 1.0), 27.00175595449156), ((10.0, 10.0), 27.001755954560487), ((10.0, 100.0), 27.001755954560487), ((100.0, 0.0001), 15.10172524113521), ((100.0, 0.001), 13.207505159240991), ((100.0, 0.01), 14.963344856010174), ((100.0, 0.1), 26.7912303977119), ((100.0, 1.0), 26.848312497700658), ((100.0, 10.0), 26.848312497848216), ((100.0, 100.0), 26.848312497848216)]}\n"
     ]
    }
   ],
   "source": [
    "#Results:\n",
    "\n",
    "import numpy as np\n",
    "import pandas as pd\n",
    "\n",
    "X_0D = np.load('/Users/mchifala/csci-5622-project/storm_forecast/storm_forecast_zero_d_tuning.npy')\n",
    "X_0D_sshv = np.load('/Users/mchifala/csci-5622-project/storm_forecast/storm_forecast_zero_d_sshv_tuning.npy')\n",
    "X_0D_zuv = np.load('/Users/mchifala/csci-5622-project/storm_forecast/storm_forecast_zero_d_zuv_tuning.npy')\n",
    "X_all = np.load('/Users/mchifala/csci-5622-project/storm_forecast/storm_forecast_all_tuning.npy')\n",
    "X_svr = np.load('/Users/mchifala/csci-5622-project/storm_forecast/storm_forecast_svr_tuning.npy')\n",
    "\n",
    "X_svr = X_svr.item()\n",
    "\n",
    "print(X_svr)\n",
    "\n",
    "\n",
    "\n",
    "def results(X_df):\n",
    "    X_df = X_df.item()\n",
    "    \n",
    "    key = min(X_df['forest_regressor'], key=X_df['forest_regressor'].get)\n",
    "    print(\"Forest Regressor:\", \"Best Score:\", X_df['forest_regressor'][key], \"; Associated Hyperparameters:\", key)\n",
    "    \n",
    "    key = min(X_df['tree_regressor'], key=X_df['tree_regressor'].get)\n",
    "    print(\"Tree Regressor:\", \"Best Score:\", X_df['tree_regressor'][key], \"; Associated Hyperparameters:\", key)\n",
    "    \n",
    "    key = min(X_df['boost_regressor'], key=X_df['boost_regressor'].get)\n",
    "    print(\"Boost Regressor:\", \"Best Score:\", X_df['boost_regressor'][key], \"; Associated Hyperparameters:\", key)\n",
    "    \n",
    "    key = min(X_df['lasso_regressor'], key=X_df['lasso_regressor'].get)\n",
    "    print(\"LASSO Regressor:\", \"Best Score:\", X_df['lasso_regressor'][key], \"; Associated Hyperparameters:\", key)\n",
    "    \n",
    "    key = min(X_df['ridge_regressor'], key=X_df['ridge_regressor'].get)\n",
    "    print(\"Ridge Regressor:\", \"Best Score:\", X_df['ridge_regressor'][key], \"; Associated Hyperparameters:\", key)\n",
    "\n",
    "\n",
    "def svr_results(X_df):\n",
    "    #X_df = X_df.item()\n",
    "    \n",
    "    for key in X_df.keys():\n",
    "        X_df[key] = dict(X_df[key])\n",
    "    \n",
    "    key = min(X_df['X_0D'], key=X_df['X_0D'].get)\n",
    "    print(\"SVR, X_0D:\", \"Best Score:\", X_df['X_0D'][key], \"; Associated Hyperparameters:\", key)\n",
    "    \n",
    "    key = min(X_df['X_0D_zuv'], key=X_df['X_0D_zuv'].get)\n",
    "    print(\"SVR, X_0D_zuv:\", \"Best Score:\", X_df['X_0D_zuv'][key], \"; Associated Hyperparameters:\", key)\n",
    "    \n",
    "    key = min(X_df['X_0D_sshv'], key=X_df['X_0D_sshv'].get)\n",
    "    print(\"SVR, X_0D:\", \"Best Score:\", X_df['X_0D_sshv'][key], \"; Associated Hyperparameters:\", key)\n",
    "    \n",
    "    #key = min(X_df['X_all'], key=X_df['X_all'].get)\n",
    "    #print(\"SVR, X_0D:\", \"Best Score:\", X_df['X_all'][key], \"; Associated Hyperparameters:\", key)\n",
    "     \n"
   ]
  },
  {
   "cell_type": "code",
   "execution_count": 116,
   "metadata": {},
   "outputs": [
    {
     "name": "stdout",
     "output_type": "stream",
     "text": [
      "X_0DD:\n",
      "Forest Regressor: Best Score: 10.96896275289073 ; Associated Hyperparameters: (25, 'log2', 200)\n",
      "Tree Regressor: Best Score: 15.24781333802893 ; Associated Hyperparameters: (10, None)\n",
      "Boost Regressor: Best Score: 10.158278235382095 ; Associated Hyperparameters: (10, 'sqrt', 200)\n",
      "LASSO Regressor: Best Score: 16.627157187430107 ; Associated Hyperparameters: 1e-05\n",
      "Ridge Regressor: Best Score: 16.627145639511117 ; Associated Hyperparameters: 5\n",
      "\n",
      "\n",
      "X_0D_sshv:\n",
      "Forest Regressor: Best Score: 12.289680310926775 ; Associated Hyperparameters: (25, None, 200)\n",
      "Tree Regressor: Best Score: 15.87016858756309 ; Associated Hyperparameters: (5, None)\n",
      "Boost Regressor: Best Score: 11.575067675724473 ; Associated Hyperparameters: (10, None, 200)\n",
      "LASSO Regressor: Best Score: 15.967767710650385 ; Associated Hyperparameters: 0.1\n",
      "Ridge Regressor: Best Score: 15.977762047629653 ; Associated Hyperparameters: 500\n",
      "\n",
      "\n",
      "X_0D_zuv:\n",
      "Forest Regressor: Best Score: 12.14406017725217 ; Associated Hyperparameters: (25, None, 200)\n",
      "Tree Regressor: Best Score: 16.082885540418555 ; Associated Hyperparameters: (5, None)\n",
      "Boost Regressor: Best Score: 11.065456002578035 ; Associated Hyperparameters: (10, None, 200)\n",
      "LASSO Regressor: Best Score: 15.857215895397399 ; Associated Hyperparameters: 0.01\n",
      "Ridge Regressor: Best Score: 15.85851237392054 ; Associated Hyperparameters: 200\n",
      "\n",
      "\n",
      "X_all:\n",
      "Forest Regressor: Best Score: 11.780524892256516 ; Associated Hyperparameters: (25, None, 200)\n",
      "Tree Regressor: Best Score: 15.982661455684026 ; Associated Hyperparameters: (5, None)\n",
      "Boost Regressor: Best Score: 10.881122191589604 ; Associated Hyperparameters: (10, None, 200)\n",
      "LASSO Regressor: Best Score: 15.505076834127221 ; Associated Hyperparameters: 0.01\n",
      "Ridge Regressor: Best Score: 15.498601442803913 ; Associated Hyperparameters: 500\n",
      "\n",
      "\n",
      "SVR Results:\n",
      "SVR, X_0D: Best Score: 11.74512241762449 ; Associated Hyperparameters: (100.0, 1.0)\n",
      "SVR, X_0D_zuv: Best Score: 9.297232111255596 ; Associated Hyperparameters: (100.0, 0.01)\n",
      "SVR, X_0D: Best Score: 13.207505159240991 ; Associated Hyperparameters: (100.0, 0.001)\n"
     ]
    }
   ],
   "source": [
    "print(\"X_0DD:\"); results(X_0D); print(\"\\n\")\n",
    "print(\"X_0D_sshv:\"); results(X_0D_sshv); print(\"\\n\")\n",
    "print(\"X_0D_zuv:\"); results(X_0D_zuv); print(\"\\n\")\n",
    "print(\"X_all:\"); results(X_all); print(\"\\n\")\n",
    "print(\"SVR Results:\"); svr_results(X_svr)\n",
    "\n",
    "\n"
   ]
  }
 ],
 "metadata": {
  "kernelspec": {
   "display_name": "Python 3",
   "language": "python",
   "name": "python3"
  },
  "language_info": {
   "codemirror_mode": {
    "name": "ipython",
    "version": 3
   },
   "file_extension": ".py",
   "mimetype": "text/x-python",
   "name": "python",
   "nbconvert_exporter": "python",
   "pygments_lexer": "ipython3",
   "version": "3.7.0"
  }
 },
 "nbformat": 4,
 "nbformat_minor": 2
}
