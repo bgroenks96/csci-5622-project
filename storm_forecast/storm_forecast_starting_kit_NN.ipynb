{
 "cells": [
  {
   "cell_type": "markdown",
   "metadata": {},
   "source": [
    "<div style=\"text-align: left\">\n",
    "<img src=\"http://project.inria.fr/saclaycds/files/2017/02/logoUPSayPlusCDS_990.png\" width=\"800px\">\n",
    "</div>\n",
    "\n",
    "# [RAMP](https://www.ramp.studio/problems/storm_forecast_hackathon) on Tropical Storm Intensity Forecast (from reanalysis data)\n",
    "\n",
    "_Sophie Giffard-Roisin (CU/CNRS), Mo Yang (CNRS), Balazs Kegl (CNRS/CDS), Claire Monteleoni (CU/CNRS), Alexandre Boucaud (CNRS/CDS)_"
   ]
  },
  {
   "cell_type": "markdown",
   "metadata": {},
   "source": [
    "1. [Introduction](#Introduction)\n",
    "2. [The prediction task](#The-prediction-task)\n",
    "2. [Installation of libraries](#Installation-of-libraries) : To do before coming!\n",
    "2. [The data](#The-data)\n",
    "3. [The pipeline](#The-pipeline)\n",
    "4. [Evaluation](#Evaluation)\n",
    "5. [Local testing/exploration](#Testing-the-submission)\n",
    "6. [Submission](#Submitting-to-the-online-challenge:-ramp.studio)"
   ]
  },
  {
   "cell_type": "markdown",
   "metadata": {},
   "source": [
    "## Introduction\n",
    "\n",
    "The goal of the RAMP is to predict the intensity of tropical and extra-tropical storms (24h forecast) using information from past storms since 1979. The intensity can be measured as the maximum sustained wind over a period of one minute at 10 meters height. This speed, calculated every 6 hours, is usually explained in knots (1kt=0.514 m/s) and is used to define the hurricane category from the [Saffir-Simpson scale](https://en.wikipedia.org/wiki/Saffir–Simpson_scale). Estimating the intensity evolution of a storm is of course crucial for the population.\n",
    "\n",
    "<img src=\"https://github.com/sophiegif/ramp_kit_storm_forecast_new/blob/master/figures_pynb/all_storms_since1979_IBTrRACKS_newcats.png?raw=true\" width=\"70%\">\n",
    "<div style=\"text-align: center\">Database: tropical/extra-tropical storm tracks since 1979. Dots = initial position, color = maximal storm strength according to the Saffir-Simpson scale.</div>\n",
    "\n",
    "Today, the forecasts (track and intensity) are provided by a numerous number of guidance models (1). Dynamical models solve the physical equations governing motions in the atmosphere. Statistical models, in contrast, are based on historical relationships between storm behavior and various other parameters. However, the lack of improvement in intensity forecasting is attributed to the complexity of tropical systems and an incomplete understanding of factors that affect their development. What is mainly still hard to predict is the rapid intensification of hurricanes: in 1992, Andrew went from tropical depression to a category 5 hurricane in 24h. \n",
    "\n",
    "Machine learning (and deep learning) methods have been only scarcely tested, and there is hope in that it can improve storm forecasts."
   ]
  },
  {
   "cell_type": "markdown",
   "metadata": {},
   "source": [
    "## The prediction task\n",
    "\n",
    "<ul class=\"list-unstyled list-inline text-center\">\n",
    "  <li>\n",
    "    <img src=\"https://github.com/sophiegif/ramp_kit_storm_forecast_new/blob/master/figures_pynb/storm_shema3.png?raw=true\" alt= \"image1\" width=\"350\" height=\"350\">\n",
    "    <figcaption>Goal: estimate the 24h-forecast intensity of all storms.</figcaption>\n",
    "  </li>\n",
    "  \n",
    "  <li>\n",
    "    <img src=\"https://github.com/sophiegif/ramp_kit_storm_forecast_new/blob/master/figures_pynb/hurricane_pb.png?raw=true\" alt= \"image2\" width=\"350\" height=\"350\">\n",
    "    <figcaption>Feature data: centered maps of wind, altitude, sst, slp, humidity...</figcaption>\n",
    "  </li>\n",
    "</ul>\n",
    "\n",
    "This challenge proposes to design the best algorithm to predict for a large number of storms the 24h-forecast intensity every 6 hours. The (real) database is composed of more than 3000 extra-tropical and tropical storm tracks, and it also provides the intensity and some local physical information at each timestep (2). Moreover, we also provide some 700-hPa and 1000-hPa feature maps of the neighborhood of the storm (from ERA-interm reanalysis database (3)), that can be viewed as images centered on the current storm location (see right image).\n",
    "\n",
    "The goal is to provide for each time step of each storm (total number of instants = 90 000), the predicted 24h-forecast intensity, so 4 time steps in the future. "
   ]
  },
  {
   "cell_type": "markdown",
   "metadata": {},
   "source": [
    "References\n",
    "\n",
    "1. National Hurricane Center Forecast Verification website, https://www.nhc.noaa.gov/verification/, updated 04 April 2017.\n",
    "\n",
    "2. Knapp, K. R., M. C. Kruk, D. H. Levinson, H. J. Diamond, and C. J. Neumann, 2010: The International Best Track Archive for Climate Stewardship (IBTrACS): Unifying tropical cyclone best track data. Bulletin of the American Meteorological Society, 91, 363-376 https://www.ncdc.noaa.gov/ibtracs/index.php?name=wmo-data\n",
    "\n",
    "3. Dee, D. P. et al.(2011), The ERA-Interim reanalysis: configuration and performance of the data assimilation system. Q.J.R. Meteorol. Soc., 137: 553–597. https://rmets.onlinelibrary.wiley.com/doi/abs/10.1002/qj.828"
   ]
  },
  {
   "cell_type": "markdown",
   "metadata": {},
   "source": [
    "## Installation of libraries\n",
    "\n",
    "To get this notebook running and test your models locally using the `ramp_test_submission`, we recommend that you use the Python distribution from [Anaconda](https://www.anaconda.com/download/) or [Miniconda](https://docs.anaconda.com/docs_oss/conda/install/quick#miniconda-quick-install-requirements). (uncomment the lines before running them)"
   ]
  },
  {
   "cell_type": "code",
   "execution_count": null,
   "metadata": {
    "collapsed": true
   },
   "outputs": [],
   "source": [
    "# !conda install -y -c conda conda-env     # First install conda-env to ease the creation of virtual envs in conda\n",
    "# !conda env create                        # Uses the local environment.yml to create the 'storm_forecast_2' env"
   ]
  },
  {
   "cell_type": "markdown",
   "metadata": {},
   "source": [
    "**OR** if you have Python already installed but are **not using Anaconda**, you'll want to use `pip` "
   ]
  },
  {
   "cell_type": "code",
   "execution_count": 1,
   "metadata": {},
   "outputs": [
    {
     "name": "stdout",
     "output_type": "stream",
     "text": [
      "Collecting flake8 (from -r requirements.txt (line 1))\n",
      "  Downloading https://files.pythonhosted.org/packages/34/a6/49e2849a0e5464e1b5d621f63bc8453066f0f367bb3b744a33fca0bc1ddd/flake8-3.6.0-py2.py3-none-any.whl (68kB)\n",
      "\u001b[K    100% |████████████████████████████████| 71kB 3.5MB/s \n",
      "\u001b[?25hCollecting numpy (from -r requirements.txt (line 2))\n",
      "  Using cached https://files.pythonhosted.org/packages/86/04/bd774106ae0ae1ada68c67efe89f1a16b2aa373cc2db15d974002a9f136d/numpy-1.15.4-cp35-cp35m-manylinux1_x86_64.whl\n",
      "Collecting scipy (from -r requirements.txt (line 3))\n",
      "  Using cached https://files.pythonhosted.org/packages/cd/32/5196b64476bd41d596a8aba43506e2403e019c90e1a3dfc21d51b83db5a6/scipy-1.1.0-cp35-cp35m-manylinux1_x86_64.whl\n",
      "Collecting pandas>=0.21 (from -r requirements.txt (line 4))\n",
      "  Using cached https://files.pythonhosted.org/packages/5d/d4/6e9c56a561f1d27407bf29318ca43f36ccaa289271b805a30034eb3a8ec4/pandas-0.23.4-cp35-cp35m-manylinux1_x86_64.whl\n",
      "Collecting jupyter (from -r requirements.txt (line 5))\n",
      "  Downloading https://files.pythonhosted.org/packages/83/df/0f5dd132200728a86190397e1ea87cd76244e42d39ec5e88efd25b2abd7e/jupyter-1.0.0-py2.py3-none-any.whl\n",
      "Collecting scikit-learn>=0.19 (from -r requirements.txt (line 6))\n",
      "  Using cached https://files.pythonhosted.org/packages/16/9f/052d64ea5765c2dc1cc0f387e5cde1454534ab365700a48b09cd08f9612b/scikit_learn-0.20.1-cp35-cp35m-manylinux1_x86_64.whl\n",
      "Collecting pyflakes<2.1.0,>=2.0.0 (from flake8->-r requirements.txt (line 1))\n",
      "  Downloading https://files.pythonhosted.org/packages/44/98/af7a72c9a543b1487d92813c648cb9b9adfbc96faef5455d60f4439aa99b/pyflakes-2.0.0-py2.py3-none-any.whl (53kB)\n",
      "\u001b[K    100% |████████████████████████████████| 61kB 6.0MB/s \n",
      "\u001b[?25hCollecting mccabe<0.7.0,>=0.6.0 (from flake8->-r requirements.txt (line 1))\n",
      "  Downloading https://files.pythonhosted.org/packages/87/89/479dc97e18549e21354893e4ee4ef36db1d237534982482c3681ee6e7b57/mccabe-0.6.1-py2.py3-none-any.whl\n",
      "Collecting pycodestyle<2.5.0,>=2.4.0 (from flake8->-r requirements.txt (line 1))\n",
      "  Downloading https://files.pythonhosted.org/packages/e5/c6/ce130213489969aa58610042dff1d908c25c731c9575af6935c2dfad03aa/pycodestyle-2.4.0-py2.py3-none-any.whl (62kB)\n",
      "\u001b[K    100% |████████████████████████████████| 71kB 11.3MB/s \n",
      "\u001b[?25hCollecting setuptools>=30 (from flake8->-r requirements.txt (line 1))\n",
      "  Using cached https://files.pythonhosted.org/packages/e7/16/da8cb8046149d50940c6110310983abb359bbb8cbc3539e6bef95c29428a/setuptools-40.6.2-py2.py3-none-any.whl\n",
      "Collecting python-dateutil>=2.5.0 (from pandas>=0.21->-r requirements.txt (line 4))\n",
      "  Using cached https://files.pythonhosted.org/packages/74/68/d87d9b36af36f44254a8d512cbfc48369103a3b9e474be9bdfe536abfc45/python_dateutil-2.7.5-py2.py3-none-any.whl\n",
      "Collecting pytz>=2011k (from pandas>=0.21->-r requirements.txt (line 4))\n",
      "  Using cached https://files.pythonhosted.org/packages/f8/0e/2365ddc010afb3d79147f1dd544e5ee24bf4ece58ab99b16fbb465ce6dc0/pytz-2018.7-py2.py3-none-any.whl\n",
      "Collecting ipykernel (from jupyter->-r requirements.txt (line 5))\n",
      "  Using cached https://files.pythonhosted.org/packages/d8/b0/f0be5c5ab335196f5cce96e5b889a4fcf5bfe462eb0acc05cd7e2caf65eb/ipykernel-5.1.0-py3-none-any.whl\n",
      "Collecting qtconsole (from jupyter->-r requirements.txt (line 5))\n",
      "  Using cached https://files.pythonhosted.org/packages/e0/7a/8aefbc0ed078dec7951ac9a06dcd1869243ecd7bcbce26fa47bf5e469a8f/qtconsole-4.4.3-py2.py3-none-any.whl\n",
      "Collecting jupyter-console (from jupyter->-r requirements.txt (line 5))\n",
      "  Downloading https://files.pythonhosted.org/packages/cb/ee/6374ae8c21b7d0847f9c3722dcdfac986b8e54fa9ad9ea66e1eb6320d2b8/jupyter_console-6.0.0-py2.py3-none-any.whl\n",
      "Collecting notebook (from jupyter->-r requirements.txt (line 5))\n",
      "  Using cached https://files.pythonhosted.org/packages/a2/5d/d1907cd32ac00b5ead56f6e61d9794fa60ef105a22ac5da6e7556011580f/notebook-5.7.2-py2.py3-none-any.whl\n",
      "Collecting nbconvert (from jupyter->-r requirements.txt (line 5))\n",
      "  Using cached https://files.pythonhosted.org/packages/b5/bb/94c493051d60e5b9c0f7f9a368b324201818c1b1c4cae85d1e49a41846c7/nbconvert-5.4.0-py2.py3-none-any.whl\n",
      "Collecting ipywidgets (from jupyter->-r requirements.txt (line 5))\n",
      "  Using cached https://files.pythonhosted.org/packages/30/9a/a008c7b1183fac9e52066d80a379b3c64eab535bd9d86cdc29a0b766fd82/ipywidgets-7.4.2-py2.py3-none-any.whl\n",
      "Collecting six>=1.5 (from python-dateutil>=2.5.0->pandas>=0.21->-r requirements.txt (line 4))\n",
      "  Using cached https://files.pythonhosted.org/packages/67/4b/141a581104b1f6397bfa78ac9d43d8ad29a7ca43ea90a2d863fe3056e86a/six-1.11.0-py2.py3-none-any.whl\n",
      "Collecting tornado>=4.2 (from ipykernel->jupyter->-r requirements.txt (line 5))\n",
      "  Using cached https://files.pythonhosted.org/packages/e6/78/6e7b5af12c12bdf38ca9bfe863fcaf53dc10430a312d0324e76c1e5ca426/tornado-5.1.1.tar.gz\n",
      "Collecting ipython>=5.0.0 (from ipykernel->jupyter->-r requirements.txt (line 5))\n",
      "  Using cached https://files.pythonhosted.org/packages/f0/b4/a9ea018c73a84ee6280b2e94a1a6af8d63e45903eac2da0640fa63bca4db/ipython-7.2.0-py3-none-any.whl\n",
      "Collecting jupyter-client (from ipykernel->jupyter->-r requirements.txt (line 5))\n",
      "  Using cached https://files.pythonhosted.org/packages/94/dd/fe6c4d683b09eb05342bd2816b7779663f71762b4fa9c2d5203d35d17354/jupyter_client-5.2.3-py2.py3-none-any.whl\n",
      "Collecting traitlets>=4.1.0 (from ipykernel->jupyter->-r requirements.txt (line 5))\n",
      "  Using cached https://files.pythonhosted.org/packages/93/d6/abcb22de61d78e2fc3959c964628a5771e47e7cc60d53e9342e21ed6cc9a/traitlets-4.3.2-py2.py3-none-any.whl\n",
      "Collecting ipython-genutils (from qtconsole->jupyter->-r requirements.txt (line 5))\n",
      "  Using cached https://files.pythonhosted.org/packages/fa/bc/9bd3b5c2b4774d5f33b2d544f1460be9df7df2fe42f352135381c347c69a/ipython_genutils-0.2.0-py2.py3-none-any.whl\n",
      "Collecting jupyter-core (from qtconsole->jupyter->-r requirements.txt (line 5))\n",
      "  Using cached https://files.pythonhosted.org/packages/1d/44/065d2d7bae7bebc06f1dd70d23c36da8c50c0f08b4236716743d706762a8/jupyter_core-4.4.0-py2.py3-none-any.whl\n",
      "Collecting pygments (from qtconsole->jupyter->-r requirements.txt (line 5))\n",
      "  Using cached https://files.pythonhosted.org/packages/fc/41/4f900a7852e25bb9350b4e3ee8c4aba0ee32abefd401456962b25f954823/Pygments-2.3.0-py2.py3-none-any.whl\n",
      "Collecting prompt-toolkit<2.1.0,>=2.0.0 (from jupyter-console->jupyter->-r requirements.txt (line 5))\n",
      "  Using cached https://files.pythonhosted.org/packages/d1/e6/adb3be5576f5d27c6faa33f1e9fea8fe5dbd9351db12148de948507e352c/prompt_toolkit-2.0.7-py3-none-any.whl\n",
      "Collecting Send2Trash (from notebook->jupyter->-r requirements.txt (line 5))\n",
      "  Using cached https://files.pythonhosted.org/packages/49/46/c3dc27481d1cc57b9385aff41c474ceb7714f7935b1247194adae45db714/Send2Trash-1.5.0-py3-none-any.whl\n",
      "Collecting pyzmq>=17 (from notebook->jupyter->-r requirements.txt (line 5))\n",
      "  Using cached https://files.pythonhosted.org/packages/9a/f9/6d7d3d1c83159997e2e7bc74d11e84a83aa1e7f85e6f028341414e7c2141/pyzmq-17.1.2-cp35-cp35m-manylinux1_x86_64.whl\n",
      "Collecting jinja2 (from notebook->jupyter->-r requirements.txt (line 5))\n",
      "  Using cached https://files.pythonhosted.org/packages/7f/ff/ae64bacdfc95f27a016a7bed8e8686763ba4d277a78ca76f32659220a731/Jinja2-2.10-py2.py3-none-any.whl\n",
      "Collecting nbformat (from notebook->jupyter->-r requirements.txt (line 5))\n",
      "  Using cached https://files.pythonhosted.org/packages/da/27/9a654d2b6cc1eaa517d1c5a4405166c7f6d72f04f6e7eea41855fe808a46/nbformat-4.4.0-py2.py3-none-any.whl\n",
      "Collecting terminado>=0.8.1 (from notebook->jupyter->-r requirements.txt (line 5))\n",
      "  Using cached https://files.pythonhosted.org/packages/2e/20/a26211a24425923d46e1213b376a6ee60dc30bcdf1b0c345e2c3769deb1c/terminado-0.8.1-py2.py3-none-any.whl\n",
      "Collecting prometheus-client (from notebook->jupyter->-r requirements.txt (line 5))\n",
      "  Downloading https://files.pythonhosted.org/packages/bc/e1/3cddac03c8992815519c5f50493097f6508fa153d067b494db8ab5e9c4ce/prometheus_client-0.5.0.tar.gz\n",
      "Collecting entrypoints>=0.2.2 (from nbconvert->jupyter->-r requirements.txt (line 5))\n",
      "  Using cached https://files.pythonhosted.org/packages/cc/8b/4eefa9b47f1910b3d2081da67726b066e379b04ca897acfe9f92bac56147/entrypoints-0.2.3-py2.py3-none-any.whl\n",
      "Collecting defusedxml (from nbconvert->jupyter->-r requirements.txt (line 5))\n",
      "  Using cached https://files.pythonhosted.org/packages/87/1c/17f3e3935a913dfe2a5ca85fa5ccbef366bfd82eb318b1f75dadbf0affca/defusedxml-0.5.0-py2.py3-none-any.whl\n",
      "Collecting bleach (from nbconvert->jupyter->-r requirements.txt (line 5))\n",
      "  Using cached https://files.pythonhosted.org/packages/d4/0d/4696373c3b714f6022d668fbab619690a42050dbeacede6d10ed97fbd3e2/bleach-3.0.2-py2.py3-none-any.whl\n",
      "Collecting testpath (from nbconvert->jupyter->-r requirements.txt (line 5))\n",
      "  Using cached https://files.pythonhosted.org/packages/be/a4/162f9ebb6489421fe46dcca2ae420369edfee4b563c668d93cb4605d12ba/testpath-0.4.2-py2.py3-none-any.whl\n",
      "Collecting mistune>=0.8.1 (from nbconvert->jupyter->-r requirements.txt (line 5))\n",
      "  Using cached https://files.pythonhosted.org/packages/09/ec/4b43dae793655b7d8a25f76119624350b4d65eb663459eb9603d7f1f0345/mistune-0.8.4-py2.py3-none-any.whl\n",
      "Collecting pandocfilters>=1.4.1 (from nbconvert->jupyter->-r requirements.txt (line 5))\n",
      "  Using cached https://files.pythonhosted.org/packages/4c/ea/236e2584af67bb6df960832731a6e5325fd4441de001767da328c33368ce/pandocfilters-1.4.2.tar.gz\n",
      "Collecting widgetsnbextension~=3.4.0 (from ipywidgets->jupyter->-r requirements.txt (line 5))\n",
      "  Using cached https://files.pythonhosted.org/packages/8a/81/35789a3952afb48238289171728072d26d6e76649ddc8b3588657a2d78c1/widgetsnbextension-3.4.2-py2.py3-none-any.whl\n",
      "Collecting jedi>=0.10 (from ipython>=5.0.0->ipykernel->jupyter->-r requirements.txt (line 5))\n",
      "  Using cached https://files.pythonhosted.org/packages/7a/1a/9bd24a185873b998611c2d8d4fb15cd5e8a879ead36355df7ee53e9111bf/jedi-0.13.1-py2.py3-none-any.whl\n",
      "Collecting backcall (from ipython>=5.0.0->ipykernel->jupyter->-r requirements.txt (line 5))\n",
      "  Using cached https://files.pythonhosted.org/packages/84/71/c8ca4f5bb1e08401b916c68003acf0a0655df935d74d93bf3f3364b310e0/backcall-0.1.0.tar.gz\n",
      "Collecting pexpect; sys_platform != \"win32\" (from ipython>=5.0.0->ipykernel->jupyter->-r requirements.txt (line 5))\n",
      "  Using cached https://files.pythonhosted.org/packages/89/e6/b5a1de8b0cc4e07ca1b305a4fcc3f9806025c1b651ea302646341222f88b/pexpect-4.6.0-py2.py3-none-any.whl\n",
      "Collecting pickleshare (from ipython>=5.0.0->ipykernel->jupyter->-r requirements.txt (line 5))\n",
      "  Using cached https://files.pythonhosted.org/packages/9a/41/220f49aaea88bc6fa6cba8d05ecf24676326156c23b991e80b3f2fc24c77/pickleshare-0.7.5-py2.py3-none-any.whl\n",
      "Collecting decorator (from ipython>=5.0.0->ipykernel->jupyter->-r requirements.txt (line 5))\n",
      "  Using cached https://files.pythonhosted.org/packages/bc/bb/a24838832ba35baf52f32ab1a49b906b5f82fb7c76b2f6a7e35e140bac30/decorator-4.3.0-py2.py3-none-any.whl\n",
      "Collecting wcwidth (from prompt-toolkit<2.1.0,>=2.0.0->jupyter-console->jupyter->-r requirements.txt (line 5))\n",
      "  Using cached https://files.pythonhosted.org/packages/7e/9f/526a6947247599b084ee5232e4f9190a38f398d7300d866af3ab571a5bfe/wcwidth-0.1.7-py2.py3-none-any.whl\n",
      "Collecting MarkupSafe>=0.23 (from jinja2->notebook->jupyter->-r requirements.txt (line 5))\n",
      "  Using cached https://files.pythonhosted.org/packages/3e/a5/e188980ef1d0a4e0788b5143ea933f9afd760df38fec4c0b72b5ae3060c8/MarkupSafe-1.1.0-cp35-cp35m-manylinux1_x86_64.whl\n",
      "Collecting jsonschema!=2.5.0,>=2.4 (from nbformat->notebook->jupyter->-r requirements.txt (line 5))\n",
      "  Using cached https://files.pythonhosted.org/packages/77/de/47e35a97b2b05c2fadbec67d44cfcdcd09b8086951b331d82de90d2912da/jsonschema-2.6.0-py2.py3-none-any.whl\n",
      "Collecting ptyprocess; os_name != \"nt\" (from terminado>=0.8.1->notebook->jupyter->-r requirements.txt (line 5))\n",
      "  Using cached https://files.pythonhosted.org/packages/d1/29/605c2cc68a9992d18dada28206eeada56ea4bd07a239669da41674648b6f/ptyprocess-0.6.0-py2.py3-none-any.whl\n",
      "Collecting webencodings (from bleach->nbconvert->jupyter->-r requirements.txt (line 5))\n",
      "  Using cached https://files.pythonhosted.org/packages/f4/24/2a3e3df732393fed8b3ebf2ec078f05546de641fe1b667ee316ec1dcf3b7/webencodings-0.5.1-py2.py3-none-any.whl\n",
      "Collecting parso>=0.3.0 (from jedi>=0.10->ipython>=5.0.0->ipykernel->jupyter->-r requirements.txt (line 5))\n",
      "  Using cached https://files.pythonhosted.org/packages/09/51/9c48a46334be50c13d25a3afe55fa05c445699304c5ad32619de953a2305/parso-0.3.1-py2.py3-none-any.whl\n",
      "Building wheels for collected packages: tornado, prometheus-client, pandocfilters, backcall\n",
      "  Running setup.py bdist_wheel for tornado ... \u001b[?25l-\b \b\\\b \b|\b \b/\b \b-\b \bdone\n",
      "\u001b[?25h  Stored in directory: /home/sapra_yash93/.cache/pip/wheels/6d/e1/ce/f4ee2fa420cc6b940123c64992b81047816d0a9fad6b879325\n",
      "  Running setup.py bdist_wheel for prometheus-client ... \u001b[?25l-\b \bdone\n",
      "\u001b[?25h  Stored in directory: /home/sapra_yash93/.cache/pip/wheels/1a/74/d7/dc59e0bf44fdfd6395c0076129453abf563e4aeca5d72c8574\n",
      "  Running setup.py bdist_wheel for pandocfilters ... \u001b[?25l-\b \bdone\n",
      "\u001b[?25h  Stored in directory: /home/sapra_yash93/.cache/pip/wheels/39/01/56/f1b08a6275acc59e846fa4c1e1b65dbc1919f20157d9e66c20\n",
      "  Running setup.py bdist_wheel for backcall ... \u001b[?25l-\b \bdone\n",
      "\u001b[?25h  Stored in directory: /home/sapra_yash93/.cache/pip/wheels/98/b0/dd/29e28ff615af3dda4c67cab719dd51357597eabff926976b45\n",
      "Successfully built tornado prometheus-client pandocfilters backcall\n",
      "Installing collected packages: pyflakes, mccabe, pycodestyle, setuptools, flake8, numpy, scipy, six, python-dateutil, pytz, pandas, tornado, parso, jedi, backcall, ptyprocess, pexpect, decorator, ipython-genutils, traitlets, pickleshare, wcwidth, prompt-toolkit, pygments, ipython, pyzmq, jupyter-core, jupyter-client, ipykernel, qtconsole, jupyter-console, Send2Trash, MarkupSafe, jinja2, jsonschema, nbformat, terminado, prometheus-client, entrypoints, defusedxml, webencodings, bleach, testpath, mistune, pandocfilters, nbconvert, notebook, widgetsnbextension, ipywidgets, jupyter, scikit-learn\n",
      "Successfully installed MarkupSafe-1.1.0 Send2Trash-1.5.0 backcall-0.1.0 bleach-3.0.2 decorator-4.3.0 defusedxml-0.5.0 entrypoints-0.2.3 flake8-3.6.0 ipykernel-5.1.0 ipython-7.2.0 ipython-genutils-0.2.0 ipywidgets-7.4.2 jedi-0.13.1 jinja2-2.10 jsonschema-2.6.0 jupyter-1.0.0 jupyter-client-5.2.3 jupyter-console-6.0.0 jupyter-core-4.4.0 mccabe-0.6.1 mistune-0.8.4 nbconvert-5.4.0 nbformat-4.4.0 notebook-5.7.2 numpy-1.15.4 pandas-0.23.4 pandocfilters-1.4.2 parso-0.3.1 pexpect-4.6.0 pickleshare-0.7.5 prometheus-client-0.5.0 prompt-toolkit-2.0.7 ptyprocess-0.6.0 pycodestyle-2.4.0 pyflakes-2.0.0 pygments-2.3.0 python-dateutil-2.7.5 pytz-2018.7 pyzmq-17.1.2 qtconsole-4.4.3 scikit-learn-0.20.1 scipy-1.1.0 setuptools-40.6.2 six-1.11.0 terminado-0.8.1 testpath-0.4.2 tornado-5.1.1 traitlets-4.3.2 wcwidth-0.1.7 webencodings-0.5.1 widgetsnbextension-3.4.2\n",
      "\u001b[33mYou are using pip version 8.1.1, however version 18.1 is available.\n",
      "You should consider upgrading via the 'pip install --upgrade pip' command.\u001b[0m\n",
      "Collecting livelossplot\n",
      "  Downloading https://files.pythonhosted.org/packages/b0/93/419eeab5ffc64da5c0d437f0c4d887e786972d8527c9a265647a52309c55/livelossplot-0.2.2-py3-none-any.whl\n",
      "Collecting matplotlib (from livelossplot)\n",
      "  Using cached https://files.pythonhosted.org/packages/ad/4c/0415f15f96864c3a2242b1c74041a806c100c1b21741206c5d87684437c6/matplotlib-3.0.2-cp35-cp35m-manylinux1_x86_64.whl\n",
      "Collecting notebook (from livelossplot)\n",
      "  Using cached https://files.pythonhosted.org/packages/a2/5d/d1907cd32ac00b5ead56f6e61d9794fa60ef105a22ac5da6e7556011580f/notebook-5.7.2-py2.py3-none-any.whl\n",
      "Collecting pyparsing!=2.0.4,!=2.1.2,!=2.1.6,>=2.0.1 (from matplotlib->livelossplot)\n",
      "  Using cached https://files.pythonhosted.org/packages/71/e8/6777f6624681c8b9701a8a0a5654f3eb56919a01a78e12bf3c73f5a3c714/pyparsing-2.3.0-py2.py3-none-any.whl\n",
      "Collecting cycler>=0.10 (from matplotlib->livelossplot)\n",
      "  Using cached https://files.pythonhosted.org/packages/f7/d2/e07d3ebb2bd7af696440ce7e754c59dd546ffe1bbe732c8ab68b9c834e61/cycler-0.10.0-py2.py3-none-any.whl\n",
      "Collecting python-dateutil>=2.1 (from matplotlib->livelossplot)\n",
      "  Using cached https://files.pythonhosted.org/packages/74/68/d87d9b36af36f44254a8d512cbfc48369103a3b9e474be9bdfe536abfc45/python_dateutil-2.7.5-py2.py3-none-any.whl\n",
      "Collecting numpy>=1.10.0 (from matplotlib->livelossplot)\n",
      "  Using cached https://files.pythonhosted.org/packages/86/04/bd774106ae0ae1ada68c67efe89f1a16b2aa373cc2db15d974002a9f136d/numpy-1.15.4-cp35-cp35m-manylinux1_x86_64.whl\n",
      "Collecting kiwisolver>=1.0.1 (from matplotlib->livelossplot)\n",
      "  Using cached https://files.pythonhosted.org/packages/7e/31/d6fedd4fb2c94755cd101191e581af30e1650ccce7a35bddb7930fed6574/kiwisolver-1.0.1-cp35-cp35m-manylinux1_x86_64.whl\n",
      "Collecting jinja2 (from notebook->livelossplot)\n",
      "  Using cached https://files.pythonhosted.org/packages/7f/ff/ae64bacdfc95f27a016a7bed8e8686763ba4d277a78ca76f32659220a731/Jinja2-2.10-py2.py3-none-any.whl\n",
      "Collecting traitlets>=4.2.1 (from notebook->livelossplot)\n",
      "  Using cached https://files.pythonhosted.org/packages/93/d6/abcb22de61d78e2fc3959c964628a5771e47e7cc60d53e9342e21ed6cc9a/traitlets-4.3.2-py2.py3-none-any.whl\n",
      "Collecting jupyter-core>=4.4.0 (from notebook->livelossplot)\n",
      "  Using cached https://files.pythonhosted.org/packages/1d/44/065d2d7bae7bebc06f1dd70d23c36da8c50c0f08b4236716743d706762a8/jupyter_core-4.4.0-py2.py3-none-any.whl\n",
      "Collecting prometheus-client (from notebook->livelossplot)\n",
      "Collecting nbconvert (from notebook->livelossplot)\n",
      "  Using cached https://files.pythonhosted.org/packages/b5/bb/94c493051d60e5b9c0f7f9a368b324201818c1b1c4cae85d1e49a41846c7/nbconvert-5.4.0-py2.py3-none-any.whl\n",
      "Collecting pyzmq>=17 (from notebook->livelossplot)\n",
      "  Using cached https://files.pythonhosted.org/packages/9a/f9/6d7d3d1c83159997e2e7bc74d11e84a83aa1e7f85e6f028341414e7c2141/pyzmq-17.1.2-cp35-cp35m-manylinux1_x86_64.whl\n",
      "Collecting Send2Trash (from notebook->livelossplot)\n",
      "  Using cached https://files.pythonhosted.org/packages/49/46/c3dc27481d1cc57b9385aff41c474ceb7714f7935b1247194adae45db714/Send2Trash-1.5.0-py3-none-any.whl\n",
      "Collecting tornado>=4 (from notebook->livelossplot)\n",
      "Collecting terminado>=0.8.1 (from notebook->livelossplot)\n",
      "  Using cached https://files.pythonhosted.org/packages/2e/20/a26211a24425923d46e1213b376a6ee60dc30bcdf1b0c345e2c3769deb1c/terminado-0.8.1-py2.py3-none-any.whl\n",
      "Collecting nbformat (from notebook->livelossplot)\n",
      "  Using cached https://files.pythonhosted.org/packages/da/27/9a654d2b6cc1eaa517d1c5a4405166c7f6d72f04f6e7eea41855fe808a46/nbformat-4.4.0-py2.py3-none-any.whl\n",
      "Collecting jupyter-client>=5.2.0 (from notebook->livelossplot)\n",
      "  Using cached https://files.pythonhosted.org/packages/94/dd/fe6c4d683b09eb05342bd2816b7779663f71762b4fa9c2d5203d35d17354/jupyter_client-5.2.3-py2.py3-none-any.whl\n",
      "Collecting ipykernel (from notebook->livelossplot)\n",
      "  Using cached https://files.pythonhosted.org/packages/d8/b0/f0be5c5ab335196f5cce96e5b889a4fcf5bfe462eb0acc05cd7e2caf65eb/ipykernel-5.1.0-py3-none-any.whl\n",
      "Collecting ipython-genutils (from notebook->livelossplot)\n",
      "  Using cached https://files.pythonhosted.org/packages/fa/bc/9bd3b5c2b4774d5f33b2d544f1460be9df7df2fe42f352135381c347c69a/ipython_genutils-0.2.0-py2.py3-none-any.whl\n",
      "Collecting six (from cycler>=0.10->matplotlib->livelossplot)\n",
      "  Using cached https://files.pythonhosted.org/packages/67/4b/141a581104b1f6397bfa78ac9d43d8ad29a7ca43ea90a2d863fe3056e86a/six-1.11.0-py2.py3-none-any.whl\n",
      "Collecting setuptools (from kiwisolver>=1.0.1->matplotlib->livelossplot)\n",
      "  Using cached https://files.pythonhosted.org/packages/e7/16/da8cb8046149d50940c6110310983abb359bbb8cbc3539e6bef95c29428a/setuptools-40.6.2-py2.py3-none-any.whl\n",
      "Collecting MarkupSafe>=0.23 (from jinja2->notebook->livelossplot)\n",
      "  Using cached https://files.pythonhosted.org/packages/3e/a5/e188980ef1d0a4e0788b5143ea933f9afd760df38fec4c0b72b5ae3060c8/MarkupSafe-1.1.0-cp35-cp35m-manylinux1_x86_64.whl\n",
      "Collecting decorator (from traitlets>=4.2.1->notebook->livelossplot)\n",
      "  Using cached https://files.pythonhosted.org/packages/bc/bb/a24838832ba35baf52f32ab1a49b906b5f82fb7c76b2f6a7e35e140bac30/decorator-4.3.0-py2.py3-none-any.whl\n",
      "Collecting mistune>=0.8.1 (from nbconvert->notebook->livelossplot)\n",
      "  Using cached https://files.pythonhosted.org/packages/09/ec/4b43dae793655b7d8a25f76119624350b4d65eb663459eb9603d7f1f0345/mistune-0.8.4-py2.py3-none-any.whl\n",
      "Collecting pygments (from nbconvert->notebook->livelossplot)\n",
      "  Using cached https://files.pythonhosted.org/packages/fc/41/4f900a7852e25bb9350b4e3ee8c4aba0ee32abefd401456962b25f954823/Pygments-2.3.0-py2.py3-none-any.whl\n",
      "Collecting entrypoints>=0.2.2 (from nbconvert->notebook->livelossplot)\n",
      "  Using cached https://files.pythonhosted.org/packages/cc/8b/4eefa9b47f1910b3d2081da67726b066e379b04ca897acfe9f92bac56147/entrypoints-0.2.3-py2.py3-none-any.whl\n",
      "Collecting bleach (from nbconvert->notebook->livelossplot)\n",
      "  Using cached https://files.pythonhosted.org/packages/d4/0d/4696373c3b714f6022d668fbab619690a42050dbeacede6d10ed97fbd3e2/bleach-3.0.2-py2.py3-none-any.whl\n",
      "Collecting defusedxml (from nbconvert->notebook->livelossplot)\n",
      "  Using cached https://files.pythonhosted.org/packages/87/1c/17f3e3935a913dfe2a5ca85fa5ccbef366bfd82eb318b1f75dadbf0affca/defusedxml-0.5.0-py2.py3-none-any.whl\n",
      "Collecting pandocfilters>=1.4.1 (from nbconvert->notebook->livelossplot)\n",
      "Collecting testpath (from nbconvert->notebook->livelossplot)\n",
      "  Using cached https://files.pythonhosted.org/packages/be/a4/162f9ebb6489421fe46dcca2ae420369edfee4b563c668d93cb4605d12ba/testpath-0.4.2-py2.py3-none-any.whl\n",
      "Collecting ptyprocess; os_name != \"nt\" (from terminado>=0.8.1->notebook->livelossplot)\n",
      "  Using cached https://files.pythonhosted.org/packages/d1/29/605c2cc68a9992d18dada28206eeada56ea4bd07a239669da41674648b6f/ptyprocess-0.6.0-py2.py3-none-any.whl\n",
      "Collecting jsonschema!=2.5.0,>=2.4 (from nbformat->notebook->livelossplot)\n",
      "  Using cached https://files.pythonhosted.org/packages/77/de/47e35a97b2b05c2fadbec67d44cfcdcd09b8086951b331d82de90d2912da/jsonschema-2.6.0-py2.py3-none-any.whl\n",
      "Collecting ipython>=5.0.0 (from ipykernel->notebook->livelossplot)\n",
      "  Using cached https://files.pythonhosted.org/packages/f0/b4/a9ea018c73a84ee6280b2e94a1a6af8d63e45903eac2da0640fa63bca4db/ipython-7.2.0-py3-none-any.whl\n",
      "Collecting webencodings (from bleach->nbconvert->notebook->livelossplot)\n",
      "  Using cached https://files.pythonhosted.org/packages/f4/24/2a3e3df732393fed8b3ebf2ec078f05546de641fe1b667ee316ec1dcf3b7/webencodings-0.5.1-py2.py3-none-any.whl\n",
      "Collecting pexpect; sys_platform != \"win32\" (from ipython>=5.0.0->ipykernel->notebook->livelossplot)\n",
      "  Using cached https://files.pythonhosted.org/packages/89/e6/b5a1de8b0cc4e07ca1b305a4fcc3f9806025c1b651ea302646341222f88b/pexpect-4.6.0-py2.py3-none-any.whl\n",
      "Collecting backcall (from ipython>=5.0.0->ipykernel->notebook->livelossplot)\n",
      "Collecting jedi>=0.10 (from ipython>=5.0.0->ipykernel->notebook->livelossplot)\n",
      "  Using cached https://files.pythonhosted.org/packages/7a/1a/9bd24a185873b998611c2d8d4fb15cd5e8a879ead36355df7ee53e9111bf/jedi-0.13.1-py2.py3-none-any.whl\n",
      "Collecting pickleshare (from ipython>=5.0.0->ipykernel->notebook->livelossplot)\n",
      "  Using cached https://files.pythonhosted.org/packages/9a/41/220f49aaea88bc6fa6cba8d05ecf24676326156c23b991e80b3f2fc24c77/pickleshare-0.7.5-py2.py3-none-any.whl\n",
      "Collecting prompt-toolkit<2.1.0,>=2.0.0 (from ipython>=5.0.0->ipykernel->notebook->livelossplot)\n",
      "  Using cached https://files.pythonhosted.org/packages/d1/e6/adb3be5576f5d27c6faa33f1e9fea8fe5dbd9351db12148de948507e352c/prompt_toolkit-2.0.7-py3-none-any.whl\n",
      "Collecting parso>=0.3.0 (from jedi>=0.10->ipython>=5.0.0->ipykernel->notebook->livelossplot)\n",
      "  Using cached https://files.pythonhosted.org/packages/09/51/9c48a46334be50c13d25a3afe55fa05c445699304c5ad32619de953a2305/parso-0.3.1-py2.py3-none-any.whl\n",
      "Collecting wcwidth (from prompt-toolkit<2.1.0,>=2.0.0->ipython>=5.0.0->ipykernel->notebook->livelossplot)\n",
      "  Using cached https://files.pythonhosted.org/packages/7e/9f/526a6947247599b084ee5232e4f9190a38f398d7300d866af3ab571a5bfe/wcwidth-0.1.7-py2.py3-none-any.whl\n",
      "Installing collected packages: pyparsing, six, cycler, python-dateutil, numpy, setuptools, kiwisolver, matplotlib, MarkupSafe, jinja2, ipython-genutils, decorator, traitlets, jupyter-core, prometheus-client, jsonschema, nbformat, mistune, pygments, entrypoints, webencodings, bleach, defusedxml, pandocfilters, testpath, nbconvert, pyzmq, Send2Trash, tornado, ptyprocess, terminado, jupyter-client, pexpect, backcall, parso, jedi, pickleshare, wcwidth, prompt-toolkit, ipython, ipykernel, notebook, livelossplot\n",
      "Successfully installed MarkupSafe-1.1.0 Send2Trash-1.5.0 backcall-0.1.0 bleach-3.0.2 cycler-0.10.0 decorator-4.3.0 defusedxml-0.5.0 entrypoints-0.2.3 ipykernel-5.1.0 ipython-7.2.0 ipython-genutils-0.2.0 jedi-0.13.1 jinja2-2.10 jsonschema-2.6.0 jupyter-client-5.2.3 jupyter-core-4.4.0 kiwisolver-1.0.1 livelossplot-0.2.2 matplotlib-3.0.2 mistune-0.8.4 nbconvert-5.4.0 nbformat-4.4.0 notebook-5.7.2 numpy-1.15.4 pandocfilters-1.4.2 parso-0.3.1 pexpect-4.6.0 pickleshare-0.7.5 prometheus-client-0.5.0 prompt-toolkit-2.0.7 ptyprocess-0.6.0 pygments-2.3.0 pyparsing-2.3.0 python-dateutil-2.7.5 pyzmq-17.1.2 setuptools-40.6.2 six-1.11.0 terminado-0.8.1 testpath-0.4.2 tornado-5.1.1 traitlets-4.3.2 wcwidth-0.1.7 webencodings-0.5.1\n",
      "\u001b[33mYou are using pip version 8.1.1, however version 18.1 is available.\n",
      "You should consider upgrading via the 'pip install --upgrade pip' command.\u001b[0m\n"
     ]
    }
   ],
   "source": [
    "!pip3 install -r requirements.txt\n",
    "!pip3 install livelossplot"
   ]
  },
  {
   "cell_type": "markdown",
   "metadata": {},
   "source": [
    "#### Installation of ramp-workflow\n",
    "\n",
    "For being able to test submissions, you also need to have the `ramp-workflow` package locally. You can install the latest version with pip from github:"
   ]
  },
  {
   "cell_type": "code",
   "execution_count": 2,
   "metadata": {},
   "outputs": [
    {
     "name": "stdout",
     "output_type": "stream",
     "text": [
      "Collecting git+https://github.com/paris-saclay-cds/ramp-workflow\n",
      "  Cloning https://github.com/paris-saclay-cds/ramp-workflow to /tmp/pip-19g7t3ui-build\n",
      "Collecting numpy (from ramp-workflow===0.2.0+45.gac81257)\n",
      "  Using cached https://files.pythonhosted.org/packages/86/04/bd774106ae0ae1ada68c67efe89f1a16b2aa373cc2db15d974002a9f136d/numpy-1.15.4-cp35-cp35m-manylinux1_x86_64.whl\n",
      "Collecting scipy (from ramp-workflow===0.2.0+45.gac81257)\n",
      "  Using cached https://files.pythonhosted.org/packages/cd/32/5196b64476bd41d596a8aba43506e2403e019c90e1a3dfc21d51b83db5a6/scipy-1.1.0-cp35-cp35m-manylinux1_x86_64.whl\n",
      "Collecting pandas>=0.19.2 (from ramp-workflow===0.2.0+45.gac81257)\n",
      "  Using cached https://files.pythonhosted.org/packages/5d/d4/6e9c56a561f1d27407bf29318ca43f36ccaa289271b805a30034eb3a8ec4/pandas-0.23.4-cp35-cp35m-manylinux1_x86_64.whl\n",
      "Collecting scikit-learn>=0.18 (from ramp-workflow===0.2.0+45.gac81257)\n",
      "  Using cached https://files.pythonhosted.org/packages/16/9f/052d64ea5765c2dc1cc0f387e5cde1454534ab365700a48b09cd08f9612b/scikit_learn-0.20.1-cp35-cp35m-manylinux1_x86_64.whl\n",
      "Collecting cloudpickle (from ramp-workflow===0.2.0+45.gac81257)\n",
      "  Using cached https://files.pythonhosted.org/packages/fc/87/7b7ef3038b4783911e3fdecb5c566e3a817ce3e890e164fc174c088edb1e/cloudpickle-0.6.1-py2.py3-none-any.whl\n",
      "Collecting pytz>=2011k (from pandas>=0.19.2->ramp-workflow===0.2.0+45.gac81257)\n",
      "  Using cached https://files.pythonhosted.org/packages/f8/0e/2365ddc010afb3d79147f1dd544e5ee24bf4ece58ab99b16fbb465ce6dc0/pytz-2018.7-py2.py3-none-any.whl\n",
      "Collecting python-dateutil>=2.5.0 (from pandas>=0.19.2->ramp-workflow===0.2.0+45.gac81257)\n",
      "  Using cached https://files.pythonhosted.org/packages/74/68/d87d9b36af36f44254a8d512cbfc48369103a3b9e474be9bdfe536abfc45/python_dateutil-2.7.5-py2.py3-none-any.whl\n",
      "Collecting six>=1.5 (from python-dateutil>=2.5.0->pandas>=0.19.2->ramp-workflow===0.2.0+45.gac81257)\n",
      "  Using cached https://files.pythonhosted.org/packages/67/4b/141a581104b1f6397bfa78ac9d43d8ad29a7ca43ea90a2d863fe3056e86a/six-1.11.0-py2.py3-none-any.whl\n",
      "Installing collected packages: numpy, scipy, pytz, six, python-dateutil, pandas, scikit-learn, cloudpickle, ramp-workflow\n",
      "  Running setup.py install for ramp-workflow ... \u001b[?25l-\b \b\\\b \bdone\n",
      "\u001b[?25hSuccessfully installed cloudpickle-0.6.1 numpy-1.15.4 pandas-0.23.4 python-dateutil-2.7.5 pytz-2018.7 ramp-workflow-0.2.0+45.gac81257 scikit-learn-0.20.1 scipy-1.1.0 six-1.11.0\n",
      "\u001b[33mYou are using pip version 8.1.1, however version 18.1 is available.\n",
      "You should consider upgrading via the 'pip install --upgrade pip' command.\u001b[0m\n"
     ]
    }
   ],
   "source": [
    "!pip3 install git+https://github.com/paris-saclay-cds/ramp-workflow"
   ]
  },
  {
   "cell_type": "markdown",
   "metadata": {},
   "source": [
    "#### Download data (optional)\n",
    "\n",
    "If the data has not yet been downloaded locally, uncomment the following cell and run it.\n",
    "The starting kit data is 260 MB."
   ]
  },
  {
   "cell_type": "code",
   "execution_count": 4,
   "metadata": {},
   "outputs": [
    {
     "name": "stdout",
     "output_type": "stream",
     "text": [
      "Downloading from https://storage.ramp.studio/storm_forecast/train.csv ...\n",
      "=> File saved as data/train.csv\n",
      "Downloading from https://storage.ramp.studio/storm_forecast/test.csv ...\n",
      "=> File saved as data/test.csv\n"
     ]
    }
   ],
   "source": [
    "!python download_data.py"
   ]
  },
  {
   "cell_type": "markdown",
   "metadata": {},
   "source": [
    "## The data\n",
    "\n",
    "The 3000 storms have been separated in a train set, a test set and a local starting kit (train+test sets). The data from `download_data.py` (local starting kit) includes only 1/4 storms of the total database; and the train set on which your code will run on the platform has another half. They are disjoined. \n",
    "\n",
    "Let's have a look at the local train data (only the first rows are plotted)."
   ]
  },
  {
   "cell_type": "code",
   "execution_count": 1,
   "metadata": {},
   "outputs": [],
   "source": [
    "from problem import get_train_data\n",
    "from problem import get_test_data\n",
    "from problem import get_full_train_data\n",
    "from problem import get_full_test_data\n",
    "import numpy as np\n",
    "\n",
    "# data_train, y_train = get_train_data()\n",
    "data_train, y_train = get_full_train_data()\n",
    "data_train.head()\n",
    "\n",
    "# data_test, y_test = get_test_data()\n",
    "data_test, y_test = get_full_test_data()"
   ]
  },
  {
   "cell_type": "code",
   "execution_count": 2,
   "metadata": {},
   "outputs": [
    {
     "name": "stdout",
     "output_type": "stream",
     "text": [
      "[28.  0.  0. ... 50. 45. 40.]\n",
      "(39083, 859)\n"
     ]
    }
   ],
   "source": [
    "print(y_train)\n",
    "\n",
    "print(data_train.shape)\n",
    "# for x in data_train.columns:\n",
    "#     print(x)"
   ]
  },
  {
   "cell_type": "markdown",
   "metadata": {},
   "source": [
    "You can see that the data is a list of time instants (one every 6h). The first storm will result in x lines beginning with its stormid and the corresponding time step, with all the associated features on the same row. Then the time steps from the second storm will be below, and so on. "
   ]
  },
  {
   "cell_type": "code",
   "execution_count": 3,
   "metadata": {},
   "outputs": [
    {
     "name": "stdout",
     "output_type": "stream",
     "text": [
      "Number of storms in the local training set: 1468\n"
     ]
    }
   ],
   "source": [
    "print('Number of storms in the local training set: {}'.format( len(set(data_train['stormid'])) ) )"
   ]
  },
  {
   "cell_type": "code",
   "execution_count": 4,
   "metadata": {},
   "outputs": [
    {
     "name": "stdout",
     "output_type": "stream",
     "text": [
      "Total number of time steps in the local training set: 39083\n"
     ]
    }
   ],
   "source": [
    "print('Total number of time steps in the local training set: {}'.format(y_train.size))"
   ]
  },
  {
   "cell_type": "markdown",
   "metadata": {},
   "source": [
    "### 1. 0D features from track data\n",
    "\n",
    "A set of simple features has been extracted for each storm at each time point: \n",
    "\n",
    "- latitude, longitude: in degrees\n",
    "- windspeed: current (max) windspeed (knots) \n",
    "- hemisphere:  South=0, North=1\n",
    "- Jday predictor:  Gaussian function of (Julian day of storm init - peak day of the hurricane season), see (1)\n",
    "- initial_max_wind: initial (max) windspeed of the storm \n",
    "- max_wind_change_12h: last 12h (max) windspeed change\n",
    "- basin = based on the present location: \n",
    "       0 = NA - North Atlantic / 1 = SA - South Atlantic    / 2 = WP - West Pacific       / 3 = EP - East Pacific /\n",
    "       4 = SP - South Pacific  / 5 = NI - North Indian      / 6 = SI - South Indian       / 7 = AS - Arabian Sea /\n",
    "       8 = BB - Bay of Bengal  / 9 = EA - Eastern Australia / 10 = WA - Western Australia / 11 = CP - Central Pacific\n",
    "       12 = CS - Carribbean Sea/ 13 = GM - Gulf of Mexico   / 14 = MM - Missing\n",
    "- nature = nature of the storm  \n",
    "       0 = TS - Tropical / 1 = SS - Subtropical / 2 = ET - Extratropical / 3 = DS - Disturbance /\n",
    "       4 = MX - Mix of conflicting reports / 5 = NR - Not Reported / 6 = MM - Missing / 7 =  - Missing\n",
    "- dist2land = current distance to the land (km)\n",
    "\n",
    "\n",
    "(1) DeMaria, Mark, et al. \"Further improvements to the statistical hurricane intensity prediction scheme (SHIPS).\" Weather and Forecasting 20.4 (2005): 531-543. https://journals.ametsoc.org/doi/full/10.1175/WAF862.1"
   ]
  },
  {
   "cell_type": "code",
   "execution_count": 5,
   "metadata": {},
   "outputs": [
    {
     "name": "stdout",
     "output_type": "stream",
     "text": [
      "<class 'pandas.core.frame.DataFrame'>\n",
      "Train shape:(39083, 10)\n",
      "Test shape:(19942, 10)\n",
      "[28.  0.  0. ... 50. 45. 40.]\n"
     ]
    }
   ],
   "source": [
    "## preprocessing 0D\n",
    "\n",
    "from sklearn.model_selection import train_test_split\n",
    "from sklearn.preprocessing import MinMaxScaler\n",
    "import pandas as pd \n",
    "import tensorflow as tf\n",
    "from tensorflow import keras\n",
    "from matplotlib import pyplot as plt\n",
    "\n",
    "col_0D = ['latitude', 'longitude', 'windspeed', 'hemisphere', 'Jday_predictor',\n",
    "            'initial_max_wind','max_wind_change_12h', 'basin', 'nature', 'dist2land']\n",
    "\n",
    "normalizedCols = ['latitude', 'longitude', 'windspeed', 'Jday_predictor',\n",
    "            'initial_max_wind','max_wind_change_12h','dist2land']\n",
    "\n",
    "for col in normalizedCols:\n",
    "    data_train[col] = data_train[col] / data_train[col].max()\n",
    "    data_test[col] = data_test[col] / data_test[col].max()\n",
    "\n",
    "D0_train = data_train[[col for col in data_train.columns if col in col_0D]]\n",
    "D0_test = data_test[[col for col in data_test.columns if col in col_0D]]\n",
    "\n",
    "print(type(D0_test))\n",
    "print(\"Train shape:\" + str(D0_train.shape))\n",
    "print(\"Test shape:\" + str(D0_test.shape))\n",
    "print(y_train)\n"
   ]
  },
  {
   "cell_type": "markdown",
   "metadata": {},
   "source": [
    "### 2. The reanalysis data\n",
    "\n",
    "At each time step, we extracted 7 grids (11x11 pixels) of meteorological parameters centered on the current storm location. Their choice is based on the forecast literature, on personal experience and on known hypothesis of storm strengthening.\n",
    "\n",
    "#### a) 25x25 degree z, u and v at 700hPa-level\n",
    "First, we provide 3 maps of 25 x 25 degrees (lat/long) at 700hPa-level pressure: the altitude `z`, the u-wind `u` (positive if wind from the West) and the v-wind `v` (positive if wind from the South). These grids are subsampled to 11x11 pixels (1 pixel ~=2 degrees).\n"
   ]
  },
  {
   "cell_type": "code",
   "execution_count": 6,
   "metadata": {},
   "outputs": [
    {
     "name": "stdout",
     "output_type": "stream",
     "text": [
      "(11, 11, 3)\n",
      "Train size:  39083\n",
      "Test size:  19942\n"
     ]
    }
   ],
   "source": [
    "## Preproessing Reanalysis\n",
    "\n",
    "## Convo 2D on 11x11 matrix\n",
    "data_train_u = data_train[[col for col in data_train.columns if col.startswith('u_')]]\n",
    "data_train_v = data_train[[col for col in data_train.columns if col.startswith('v_')]]\n",
    "data_train_z = data_train[[col for col in data_train.columns if col.startswith('z_')]]\n",
    "\n",
    "data_test_u = data_test[[col for col in data_test.columns if col.startswith('u_')]]\n",
    "data_test_v = data_test[[col for col in data_test.columns if col.startswith('v_')]]\n",
    "data_test_z = data_test[[col for col in data_test.columns if col.startswith('z_')]]\n",
    "\n",
    "##\n",
    "scaler = MinMaxScaler((0,1))\n",
    "\n",
    "data_train_u = scaler.fit_transform(data_train_u)\n",
    "data_train_v = scaler.fit_transform(data_train_v)\n",
    "data_train_z = scaler.fit_transform(data_train_z)\n",
    "\n",
    "data_test_u = scaler.fit_transform(data_test_u)\n",
    "data_test_v = scaler.fit_transform(data_test_v)\n",
    "data_test_z = scaler.fit_transform(data_test_z)\n",
    "\n",
    "##\n",
    "data_train_u = data_train_u.reshape((len(data_train_u),11,11 ,1))\n",
    "data_train_v = data_train_v.reshape((len(data_train_v),11,11 ,1))\n",
    "data_train_z = data_train_z.reshape((len(data_train_z),11,11 ,1))\n",
    "\n",
    "data_test_u = data_test_u.reshape((len(data_test_u),11,11 ,1))\n",
    "data_test_v = data_test_v.reshape((len(data_test_v),11,11 ,1))\n",
    "data_test_z = data_test_z.reshape((len(data_test_z),11,11 ,1))\n",
    "\n",
    "##\n",
    "data_train_uvz = np.concatenate((data_train_u, data_train_v, data_train_z), axis=3)\n",
    "data_test_uvz = np.concatenate((data_test_u, data_test_v, data_test_z), axis=3)\n",
    "\n",
    "print(data_train_uvz[0].shape)\n",
    "print(\"Train size: \", len(data_train_uvz))\n",
    "print(\"Test size: \", len(data_test_uvz))"
   ]
  },
  {
   "cell_type": "markdown",
   "metadata": {},
   "source": [
    "\n",
    "\n",
    "# Concatenate 0D and Reanalysis data"
   ]
  },
  {
   "cell_type": "code",
   "execution_count": 7,
   "metadata": {},
   "outputs": [],
   "source": [
    "import matplotlib.pyplot as plt\n",
    "%matplotlib inline\n",
    "sample_id=20 # sample number plotted - you can change it to see other storms and other instants\n",
    "grid_l=11 # size of all 2D-grids (in pixels)"
   ]
  },
  {
   "cell_type": "code",
   "execution_count": 8,
   "metadata": {},
   "outputs": [
    {
     "data": {
      "image/png": "[encoded data removed]",
      "text/plain": [
       "<Figure size 720x288 with 3 Axes>"
      ]
     },
     "metadata": {
      "needs_background": "light"
     },
     "output_type": "display_data"
    }
   ],
   "source": [
    "params_25x25=['z','u','v']\n",
    "plt.figure(figsize=(10,4))\n",
    "for p,param in enumerate(params_25x25):\n",
    "    image=np.zeros([grid_l,grid_l])\n",
    "    for i in range(grid_l):\n",
    "         for j in range(grid_l):\n",
    "            image[i,j]=data_train[param+'_'+str(i)+'_'+str(j)][sample_id]\n",
    "    plt.subplot(1,3,p+1)\n",
    "    plt.imshow(np.array(image),extent=[-12,12,-12,12],\n",
    "               interpolation='nearest', origin='lower', cmap='seismic')\n",
    "    plt.xlabel('param '+param)\n",
    "t=plt.suptitle('Example of 700-hPa level maps 25x25 degrees, centered in the storm location.'\n",
    "         +'\\n (altitude, u-wind and v-wind)')"
   ]
  },
  {
   "cell_type": "code",
   "execution_count": null,
   "metadata": {},
   "outputs": [],
   "source": []
  },
  {
   "cell_type": "markdown",
   "metadata": {},
   "source": [
    "#### b) 11x11 degree sst, slp, humidity at 1000hPa,  and vorticity at 700hPa\n",
    "We provide some more localized maps of 11 x 11 degrees (lat/long) at the surface: the sea surface temperature `sst`, surface level pressure `slp`, the relative humidity `hum` at 1000hPa (near surface). These grids are sampled to 11x11 pixels (1 pixel = 1 degree). We also provide the vorticity at 700hPa `vo700`. \n",
    "\n",
    "NB: `sst` is only defined on the sea, so land has NaNs values."
   ]
  },
  {
   "cell_type": "code",
   "execution_count": 9,
   "metadata": {},
   "outputs": [
    {
     "data": {
      "image/png": "[encoded data removed]",
      "text/plain": [
       "<Figure size 720x216 with 4 Axes>"
      ]
     },
     "metadata": {
      "needs_background": "light"
     },
     "output_type": "display_data"
    }
   ],
   "source": [
    "params_11x11=['sst','slp','hum','vo700']\n",
    "plt.figure(figsize=(10,3))\n",
    "for p,param in enumerate(params_11x11):\n",
    "    image=np.zeros([grid_l,grid_l])\n",
    "    for i in range(grid_l):\n",
    "         for j in range(grid_l):\n",
    "            image[i,j]=data_train[param+'_'+str(i)+'_'+str(j)][sample_id]\n",
    "    plt.subplot(1,4,p+1)\n",
    "    plt.imshow(np.array(image),extent=[-5,5,-5,5],\n",
    "               interpolation='nearest', origin='lower', cmap='seismic')\n",
    "    plt.xlabel('param '+param)\n",
    "t=plt.suptitle('Example of 11x11 degrees maps, centered in the storm location.'\n",
    "         +'\\n (surf. temp., surf. pressure, 1000hPa humidity and 700hPa vorticity)')"
   ]
  },
  {
   "cell_type": "markdown",
   "metadata": {},
   "source": [
    "\n",
    "\n",
    "# All feature Network"
   ]
  },
  {
   "cell_type": "code",
   "execution_count": 10,
   "metadata": {},
   "outputs": [
    {
     "name": "stderr",
     "output_type": "stream",
     "text": [
      "/home/sapra_yash93/.local/lib/python3.5/site-packages/sklearn/utils/deprecation.py:58: DeprecationWarning: Class Imputer is deprecated; Imputer was deprecated in version 0.20 and will be removed in 0.22. Import impute.SimpleImputer from sklearn instead.\n",
      "  warnings.warn(msg, category=DeprecationWarning)\n"
     ]
    }
   ],
   "source": [
    "from sklearn.preprocessing import Imputer\n",
    "\n",
    "data_train_11 = data_train.loc[:, data_train.columns.str.contains('|'.join(params_11x11))]\n",
    "data_test_11 = data_test.loc[:, data_test.columns.str.contains('|'.join(params_11x11))]\n",
    "\n",
    "imputer = Imputer()\n",
    "\n",
    "data_train_11 = imputer.fit_transform(data_train_11)\n",
    "data_test_11 = imputer.fit_transform(data_test_11)\n",
    "\n",
    "scaler = MinMaxScaler((0,1))\n",
    "data_train_11 = scaler.fit_transform(data_train_11)\n",
    "data_test_11 = scaler.fit_transform(data_test_11)\n",
    "\n",
    "data_train_11 = data_train_11.reshape((len(data_train_11),11,11 ,4))\n",
    "data_test_11 = data_test_11.reshape((len(data_test_11),11,11 ,4))\n"
   ]
  },
  {
   "cell_type": "code",
   "execution_count": 11,
   "metadata": {
    "scrolled": true
   },
   "outputs": [
    {
     "data": {
      "image/png": "[encoded data removed]",
      "text/plain": [
       "<Figure size 864x576 with 2 Axes>"
      ]
     },
     "metadata": {
      "needs_background": "light"
     },
     "output_type": "display_data"
    },
    {
     "name": "stdout",
     "output_type": "stream",
     "text": [
      "mse (cost function):\n",
      "training   (min:  228.341, max: 1055.147, cur:  230.416)\n",
      "validation (min:  226.835, max:  730.696, cur:  226.835)\n",
      "\n",
      "Mean absolute error:\n",
      "training   (min:   11.393, max:   25.492, cur:   11.432)\n",
      "validation (min:   11.201, max:   21.997, cur:   11.201)\n"
     ]
    }
   ],
   "source": [
    "from keras.utils import plot_model\n",
    "from keras.layers.merge import concatenate\n",
    "from keras.models import Model, Sequential\n",
    "from keras.layers import Dense, Input, Conv2D, Flatten, Dropout\n",
    "from livelossplot import PlotLossesKeras\n",
    "\n",
    "## 0D model\n",
    "model1_in = Input((10,))\n",
    "model1_hid1 = Dense(8, input_dim=10, activation='relu', name='hidden_layer_1')(model1_in)\n",
    "model1_hid2 = Dense(16, input_dim=10, activation='relu', name='hidden_layer_2')(model1_hid1)\n",
    "model1_hid3 = Dense(32, input_dim=10, activation='relu', name='hidde_layer_3')(model1_hid2)\n",
    "model1_out = Dense(1, name='mode1_out')(model1_hid3)\n",
    "model1 = Model(model1_in, model1_out)\n",
    "\n",
    "## sshv\n",
    "model3_in = Input((11,11,4,))\n",
    "model3_hid1 = Conv2D(64, kernel_size=(3, 3), strides=(1, 1), activation='relu', input_shape=data_train_11[0].shape)(model3_in)\n",
    "model3_hid2 = Conv2D(32, kernel_size=(3, 3), strides=(1, 1), activation='relu', input_shape=data_train_11[0].shape)(model3_hid1)\n",
    "model3_hid3 = Conv2D(16, kernel_size=(3, 3), strides=(1, 1), activation='relu', input_shape=data_train_11[0].shape)(model3_hid2)\n",
    "#model3_hid4 = Dropout(0.20)(model3_hid3)\n",
    "model3_hid5 = Flatten()(model3_hid3)\n",
    "\n",
    "\n",
    "model3_dense1 = Dense(8, activation = 'relu') (model3_hid5)\n",
    "model3_out = Dense(1) (model3_dense1)\n",
    "model3 = Model(model3_in, model3_out)\n",
    "\n",
    "## merged data\n",
    "# concatenated = concatenate([model1_out, model2_out, model3_out])\n",
    "concatenated = concatenate([model1_out, model3_out])\n",
    "out1 = Dense(8, activation='relu', name='output_layer_1')(concatenated)\n",
    "out2 = Dense(1, name='output_layer_2')(out1)\n",
    "\n",
    "\n",
    "merged_model = Model([model1_in, model3_in], out2)\n",
    "merged_model.compile(loss='mse', optimizer='adam', metrics=['mae'])\n",
    "\n",
    "history = merged_model.fit([D0_train, data_train_11],\n",
    "                    y_train,\n",
    "                    epochs=30,\n",
    "                    validation_split=0.33,\n",
    "                    batch_size=128,\n",
    "                    verbose = 0,\n",
    "                    callbacks=[PlotLossesKeras()])"
   ]
  },
  {
   "cell_type": "code",
   "execution_count": 16,
   "metadata": {},
   "outputs": [
    {
     "name": "stdout",
     "output_type": "stream",
     "text": [
      "19942/19942 [==============================] - 1s 63us/step\n",
      "test error:  [277.38282958598734, 12.207092201371404]\n"
     ]
    }
   ],
   "source": [
    "score = merged_model.evaluate([D0_test, data_test_11], y_test, verbose=1)\n",
    "print(\"test error: \", score)\n"
   ]
  },
  {
   "cell_type": "markdown",
   "metadata": {},
   "source": [
    "## The pipeline"
   ]
  },
  {
   "cell_type": "markdown",
   "metadata": {},
   "source": [
    "<img src=\"https://github.com/sophiegif/ramp_kit_storm_forecast_new/blob/master/figures_pynb/pipeline.png?raw=true\" width=\"70%\">"
   ]
  },
  {
   "cell_type": "markdown",
   "metadata": {},
   "source": [
    "For submitting at the [RAMP site](http://ramp.studio), you will have to write two classes, saved in a specific file:   \n",
    "\n",
    "* a class `FeatureExtractor` in a `feature_extractor.py` file.\n",
    "* a class `Regressor` in a `regressor.py` file.\n",
    "\n",
    "You can look at the simple examples provided in /submissions:\n",
    "- starting_kit : using only the track data\n",
    "- starting_kit_pressure_map : using both track data and image data\n",
    "\n",
    "### Using data from previous time steps\n",
    "Of course, you can use the data from previous time steps, e.g., for the prediction of the intensity of storm S at t=3 you can use data from S at t=\\[0:2\\]. However, it is completely forbidden (and we check it!) to use future data like S at t=4,.. This is illustrated in the figure below, where the estimation of the 24h-forecast of the time instant 2 (red line) can use blue but not red features.\n",
    "\n",
    "- `illegal_lookahead`: this simple submission illustrates the error you will have if you are illegally looking ahead time of the same storm.\n",
    "- `legal_lookbefore` : this simple submission illustrates how to use information from previous time steps of the same storm.\n",
    "\n",
    "<img src=\"https://github.com/sophiegif/ramp_kit_storm_forecast_new/blob/master/figures_pynb/illegal_lookahead.png?raw=true\" width=\"70%\">\n",
    "<div style=\"text-align: center\">Data from previous steps are allowed, but data from future steps are forbidden.</div>"
   ]
  },
  {
   "cell_type": "markdown",
   "metadata": {},
   "source": [
    "## Evaluation\n",
    "The framework is evaluated with a cross-validation approach. The metric used is the RMSE (root mean square error) in knots across all storm time instants. We also made visible three other metrics: `mae` is the mean absolute error, in knots. `mae_hurr` is the MAE using only time instants corresponding to hurricanes (windspeed>64 knots), while `rel_mae_hurr` is the relative RMSE on hurricanes. These metrics are interesting because the current forecasting practice is to exclude all other stages of development (e.g., extratropical, tropical wave...), see [this page](https://www.nhc.noaa.gov/verification/verify5.shtml?)."
   ]
  },
  {
   "cell_type": "markdown",
   "metadata": {},
   "source": [
    "## Testing the submission\n",
    "You can test locally our pipeline using `ramp_test_submission` command line (`-h` will give you all infos). For that, open a terminal in your `storm_forecast/` folder and type on a terminal `ramp_test_submission --submission starting_kit`. You can then copy a submission example in `submissions/<YOUR_SUBMISSION_NAME>/`and modify its codes as you want. Finally, test it on your computer with `ramp_test_submission --submission <YOUR_SUBMISSION_NAME>`."
   ]
  },
  {
   "cell_type": "markdown",
   "metadata": {},
   "source": [
    "If you get to see the train and test scores, and no errors, then you can submit your model to the ramp.studio."
   ]
  },
  {
   "cell_type": "markdown",
   "metadata": {},
   "source": [
    "## Some warnings when building the model"
   ]
  },
  {
   "cell_type": "markdown",
   "metadata": {},
   "source": [
    "<div class=\"alert alert-danger\">\n",
    "\n",
    " <ul>\n",
    "  <li>If you want to use the features from previous time steps in your learning (for example using LSTMs), you will have to use the 'stormid' and the 'instant_t' columns. Moreover, you will have to handle separetly the first time steps, which are not provided with past data.</li>\n",
    "  <li>The intensity value to predict is the max windspeed. However, this value was measured empirically with a precision of ~5knots. </li>\n",
    "</ul> \n",
    "\n",
    "</div>"
   ]
  },
  {
   "cell_type": "markdown",
   "metadata": {},
   "source": [
    "## Submitting to the online challenge: ramp.studio\n",
    "\n",
    "Once you have found a good model, you can submit them to [ramp.studio](http://www.ramp.studio) to enter the online challenge. First, if it is your first time using the RAMP platform, [sign up](http://www.ramp.studio/sign_up), otherwise [log in](http://www.ramp.studio/login). Then sign up to the event [storm_forecast_CI2018](http://www.ramp.studio/events/storm_forecast_CI2018). Sign up for the event. Both signups are controled by RAMP administrators, so there **can be a delay between asking for signup and being able to submit**.\n",
    "\n",
    "Once your signup request is accepted, you can go to your [sandbox](http://www.ramp.studio/events/storm_forecast_CI2018/sandbox) and copy-paste (or upload) [`feature_extractor.py`](/edit/submissions/starting_kit/feature_extractor.py) and [`classifier.py`](/edit/submissions/starting_kit/classifier.py). Save it, rename it, then submit it. The submission is trained and tested on our backend in the similar way as `ramp_test_submission` does it locally. While your submission is waiting in the queue and being trained, you can find it in the \"New submissions (pending training)\" table in [my submissions](http://www.ramp.studio/events/storm_forecast_CI2018/my_submissions). Once it is trained your submission shows up on the [public leaderboard](http://www.ramp.studio/events/storm_forecast_CI2018/leaderboard). \n",
    "If there is an error (despite having tested your submission locally with `ramp_test_submission`), it will show up in the \"Failed submissions\" table in [my submissions](http://www.ramp.studio/events/storm_forecast_CI2018/my_submissions). You can click on the error to see part of the trace.\n",
    "\n",
    "After submission, do not forget to give credit to the previous submissions you reused or integrated into your submission.\n",
    "\n",
    "The data set we use on the backend is usually different from what you find in the starting kit, so the score may be different.\n",
    "\n",
    "The official score in this RAMP (the first score column after \"historical contributivity\" on the [leaderboard](http://www.ramp.studio/events/storm_forecast_CI2018/leaderboard)) is the RMSE."
   ]
  },
  {
   "cell_type": "markdown",
   "metadata": {},
   "source": [
    "## More information\n",
    "\n",
    "You can find more information in the [README](https://github.com/paris-saclay-cds/ramp-workflow/blob/master/README.md) of the [ramp-workflow library](https://github.com/paris-saclay-cds/ramp-workflow)."
   ]
  },
  {
   "cell_type": "markdown",
   "metadata": {},
   "source": [
    "## Contact\n",
    "\n",
    "Don't hesitate to [contact us](mailto:admin@ramp.studio?subject=Storm forecast CI2018 ramp)."
   ]
  }
 ],
 "metadata": {
  "anaconda-cloud": {},
  "kernelspec": {
   "display_name": "Python 3",
   "language": "python",
   "name": "python3"
  },
  "language_info": {
   "codemirror_mode": {
    "name": "ipython",
    "version": 3
   },
   "file_extension": ".py",
   "mimetype": "text/x-python",
   "name": "python",
   "nbconvert_exporter": "python",
   "pygments_lexer": "ipython3",
   "version": "3.5.4"
  },
  "nav_menu": {},
  "toc": {
   "navigate_menu": true,
   "number_sections": true,
   "sideBar": true,
   "threshold": 6,
   "toc_cell": false,
   "toc_section_display": "block",
   "toc_window_display": false
  }
 },
 "nbformat": 4,
 "nbformat_minor": 1
}
